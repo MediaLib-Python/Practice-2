{
 "cells": [
  {
   "cell_type": "code",
   "execution_count": null,
   "metadata": {},
   "outputs": [],
   "source": [
    "##use for and range\n",
    "\n",
    "## the following line is just MAGIC ##############################################\n",
    "## we need it to be able to draw images on the screen ############################\n",
    "from medialib import *\n",
    "initialize() # always the first instruction of the program\n",
    "##################################################################################\n",
    "print(\"left-click your mouse to start\")\n",
    "wait_mouse_leftclick() # left-click your mouse to start\n",
    "## animation\n",
    "## draw a rectangle from big to small\n",
    "\n",
    "\n",
    "\n",
    "\n",
    "clear()\n",
    "draw('blastoff.jpg',100,100)\n",
    "\n",
    "print(\"left-click your mouse to continue\")\n",
    "wait_mouse_leftclick() # left-click your mouse to continue\n",
    "\n",
    "all_done() # always the last instruction of the program"
   ]
  }
 ],
 "metadata": {
  "kernelspec": {
   "display_name": "Python 3.9.13 ('medialib')",
   "language": "python",
   "name": "python3"
  },
  "language_info": {
   "name": "python",
   "version": "3.9.13"
  },
  "orig_nbformat": 4,
  "vscode": {
   "interpreter": {
    "hash": "a2a9938ffb037a936b5bc0cbb99da7d075a48b16fba8028c675015d5bfa27e3b"
   }
  }
 },
 "nbformat": 4,
 "nbformat_minor": 2
}
