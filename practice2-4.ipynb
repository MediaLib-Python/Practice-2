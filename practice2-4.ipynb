{
 "cells": [
  {
   "cell_type": "code",
   "execution_count": null,
   "metadata": {},
   "outputs": [],
   "source": [
    "# use for, range, and list\n",
    "\n",
    "\n",
    "## the following line is just MAGIC ##############################################\n",
    "## we need it to be able to draw images on the screen ############################\n",
    "from medialib import *\n",
    "initialize() # always the first instruction of the program\n",
    "##################################################################################\n",
    "# draw a barchart which consists of several horizontal bars, the length of each bar is stored in each items of the list named values\n",
    "#######################################\n",
    "\n",
    "values = [0,30,60,90,300,120,150]\n",
    "### add a new element with the value 360 to the end of the list values\n",
    "\n",
    "\n",
    "clear()\n",
    "\n",
    "## let the heigh of bar is 30, draw a barchart which consists of several horizontal bars, the length of each bar is stored in the list values\n",
    "\n",
    "\n",
    "\n",
    "\n",
    "\n",
    "\n",
    "wait_mouse_leftclick() # left-click your mouse to continue\n",
    "\n",
    "## try to organize the elements in vaulese from small to big, and then draw the bule bar again\n",
    "\n",
    "\n",
    "\n",
    "\n",
    "\n",
    "\n",
    "wait_mouse_leftclick() # left-click your mouse to continue\n",
    "all_done() # always the last instruction of the program"
   ]
  }
 ],
 "metadata": {
  "kernelspec": {
   "display_name": "Python 3.9.13 ('medialib')",
   "language": "python",
   "name": "python3"
  },
  "language_info": {
   "name": "python",
   "version": "3.9.13"
  },
  "orig_nbformat": 4,
  "vscode": {
   "interpreter": {
    "hash": "a2a9938ffb037a936b5bc0cbb99da7d075a48b16fba8028c675015d5bfa27e3b"
   }
  }
 },
 "nbformat": 4,
 "nbformat_minor": 2
}
