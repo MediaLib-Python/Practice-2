{
 "cells": [
  {
   "cell_type": "code",
   "execution_count": null,
   "metadata": {},
   "outputs": [],
   "source": [
    "## draw game levels using strings\n",
    "## use while and if\n",
    "\n",
    "## the following line is just MAGIC ##############################################\n",
    "## we need it to be able to draw images on the screen ############################\n",
    "from medialib import *\n",
    "initialize() # always the first instruction of the program\n",
    "##################################################################################\n",
    "\n",
    "trees = \" BM     B  B\"\n",
    "floor = \"GGGWWWGGGWGG\"\n",
    "clear()\n",
    "## B: tileBush.png       M: tileMushroom.png\n",
    "## G: tileGround.png     W: tileWater.png\n",
    "## The width of each is 64.\n",
    "\n",
    "x = 0\n",
    "y=100 ##draw the imagese of floor in y=100\n",
    "\n",
    "\n",
    "x = 0\n",
    "y_Mushroom=60  ##draw the imagese of Mushroom in y=60\n",
    "y_Bush=70      ##draw the imagese of Bush in y=70\n",
    "\n",
    "\n",
    "## 1) draw as defined in trees and floor, then change the tiles, to have 2 more mushrooms!\n",
    "\n",
    "## 2) reverse the 2 strings above so the whole image becomes mirrored.\n",
    "\n",
    "text(\"click anywhere with the left mouse button to finish\", 10,500,16)\n",
    "wait_mouse_leftclick() # left-click your mouse to continue\n",
    "\n",
    "all_done() # always the last instruction of the program\n",
    "\n",
    "## tiles are from\n",
    "## https://opengameart.org/content/free-platformer-game-tileset"
   ]
  }
 ],
 "metadata": {
  "kernelspec": {
   "display_name": "Python 3.9.13 ('medialib')",
   "language": "python",
   "name": "python3"
  },
  "language_info": {
   "name": "python",
   "version": "3.9.13"
  },
  "orig_nbformat": 4,
  "vscode": {
   "interpreter": {
    "hash": "a2a9938ffb037a936b5bc0cbb99da7d075a48b16fba8028c675015d5bfa27e3b"
   }
  }
 },
 "nbformat": 4,
 "nbformat_minor": 2
}
