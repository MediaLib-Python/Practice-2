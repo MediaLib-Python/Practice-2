{
 "cells": [
  {
   "cell_type": "code",
   "execution_count": null,
   "metadata": {},
   "outputs": [],
   "source": [
    "## use a while-loop to write a program\n",
    "\n",
    "## the following line is just MAGIC ##############################################\n",
    "## we need it to be able to draw images on the screen ############################\n",
    "from medialib import *\n",
    "initialize() # always the first instruction of the program\n",
    "##################################################################################\n",
    "\n",
    "clear()\n",
    "\n",
    "#first draw the picture python_logo.png on  (100,100)\n",
    "\n",
    "\n",
    "\n",
    "\n",
    "##  use the wait_key_press() function in the library\n",
    "userinput = wait_key_press()\n",
    "## if a key is pressed...\n",
    "\n",
    "## press \"a\" to move the picture to left,\n",
    "\n",
    "## press \"d\" to move the picture to right\n",
    "\n",
    "## press \"h\" to play hello.mp3 which says \"hello!\"\n",
    "\n",
    "## press \"q\" to exit\n",
    "\n",
    "\n",
    "\n",
    "all_done() # always the last instruction of the program"
   ]
  }
 ],
 "metadata": {
  "kernelspec": {
   "display_name": "Python 3.9.13 ('medialib')",
   "language": "python",
   "name": "python3"
  },
  "language_info": {
   "name": "python",
   "version": "3.9.13"
  },
  "orig_nbformat": 4,
  "vscode": {
   "interpreter": {
    "hash": "a2a9938ffb037a936b5bc0cbb99da7d075a48b16fba8028c675015d5bfa27e3b"
   }
  }
 },
 "nbformat": 4,
 "nbformat_minor": 2
}
